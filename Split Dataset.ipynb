{
 "cells": [
  {
   "cell_type": "code",
   "execution_count": 1,
   "metadata": {},
   "outputs": [],
   "source": [
    "# Import External Library\n",
    "import pandas as pd\n",
    "import numpy as np\n",
    "import glob"
   ]
  },
  {
   "cell_type": "code",
   "execution_count": 2,
   "metadata": {},
   "outputs": [],
   "source": [
    "# Import own library\n",
    "from function.preprocessing import roll_criteria"
   ]
  },
  {
   "cell_type": "markdown",
   "metadata": {},
   "source": [
    "# Split Dataset into 4 Dataset Based on a criteria"
   ]
  },
  {
   "cell_type": "markdown",
   "metadata": {},
   "source": [
    "#### df_char1 = df_character[(df_character.section_min_roll>=-10) & (df_character.section_max_roll<=10)]\n",
    "#### df_char2 = df_character[(df_character.section_min_roll>=-10) & (df_character.section_max_roll<=40)]\n",
    "####  df_char3 = df_character[(df_character.section_min_roll>=-40) & (df_character.section_max_roll<=10)]\n",
    "#### df_char4 = df_character[(df_character.section_min_roll>=-40) & (df_character.section_max_roll<=40)]"
   ]
  },
  {
   "cell_type": "code",
   "execution_count": 45,
   "metadata": {},
   "outputs": [],
   "source": [
    "# Define csv path\n",
    "import pandas as pd\n",
    "\n",
    "df_train = pd.read_csv(r\".../CSV_PID_PROCESSED/Train_dataset.csv\") \n",
    "source_path = r\".../CSV_PID_PROCESSED/*csv\"\n",
    "\n",
    "csv_path = glob.glob(source_path)\n",
    "\n",
    "df_criteria1 = pd.DataFrame(columns = df_train.columns)\n",
    "df_criteria2 = pd.DataFrame(columns = df_train.columns)\n",
    "df_criteria3 = pd.DataFrame(columns = df_train.columns) \n",
    "df_criteria4 = pd.DataFrame(columns = df_train.columns) \n",
    "\n",
    "for csv_file in csv_path:\n",
    "    df = pd.read_csv(csv_file)\n",
    "    indexes, _ = index_wp(df)\n",
    "    char1, char2, char3, char4 = roll_criteria(df)\n",
    "    \n",
    "    if len(char1) != 0:\n",
    "        for value in char1['current_wp']:\n",
    "            start_index = indexes[value]\n",
    "            end_index = indexes[value+1]\n",
    "\n",
    "            df_criteria1 = df_criteria1.append(df[start_index:end_index])\n",
    "        df_criteria1.to_csv(r'...\\TRAIN SET SECTION\\SET1\\train_set1.csv', index=False)\n",
    "    else:\n",
    "        pass\n",
    "\n",
    "    if len(char2) != 0:\n",
    "        for value in char2['current_wp']:\n",
    "            start_index = indexes[value]\n",
    "            end_index = indexes[value+1]\n",
    "\n",
    "            df_criteria2 = df_criteria2.append(df[start_index:end_index])\n",
    "        df_criteria2.to_csv(r'...\\TRAIN SET SECTION\\SET2\\train_set2.csv', index=False)\n",
    "    else:\n",
    "        pass\n",
    "\n",
    "    if len(char3) != 0:\n",
    "        for value in char3['current_wp']:\n",
    "            start_index = indexes[value]\n",
    "            end_index = indexes[value+1]\n",
    "\n",
    "            df_criteria3 = df_criteria3.append(df[start_index:end_index])\n",
    "        df_criteria3.to_csv(r'...\\TRAIN SET SECTION\\SET3\\train_set3.csv', index=False)\n",
    "    else:\n",
    "        pass\n",
    "\n",
    "    if len(char4) != 0:\n",
    "        for value in char4['current_wp']:\n",
    "            start_index = indexes[value]\n",
    "            end_index = indexes[value+1]\n",
    "\n",
    "            df_criteria4 = df_criteria4.append(df[start_index:end_index])\n",
    "        df_criteria4.to_csv(r'...\\TRAIN SET SECTION\\SET4\\train_set4.csv', index=False)\n",
    "    else:\n",
    "        pass"
   ]
  }
 ],
 "metadata": {
  "kernelspec": {
   "display_name": "Python 3",
   "language": "python",
   "name": "python3"
  },
  "language_info": {
   "codemirror_mode": {
    "name": "ipython",
    "version": 3
   },
   "file_extension": ".py",
   "mimetype": "text/x-python",
   "name": "python",
   "nbconvert_exporter": "python",
   "pygments_lexer": "ipython3",
   "version": "3.8.5"
  }
 },
 "nbformat": 4,
 "nbformat_minor": 4
}
