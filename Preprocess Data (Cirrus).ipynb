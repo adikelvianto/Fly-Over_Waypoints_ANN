{
 "cells": [
  {
   "cell_type": "code",
   "execution_count": 12,
   "metadata": {},
   "outputs": [],
   "source": [
    "# Import External Library\n",
    "import pandas as pd\n",
    "import tensorflow as tf\n",
    "import keras\n",
    "import pandas as pd\n",
    "import numpy as np\n",
    "import matplotlib.pyplot as plt\n",
    "from scipy import stats\n",
    "import os \n",
    "import glob\n",
    "from timeit import default_timer as timer\n",
    "from pathlib import Path\n",
    "from keras.models import Sequential\n",
    "from keras.layers import Dense\n",
    "from tensorflow.keras.metrics import MeanSquaredError\n",
    "from sklearn.preprocessing import MinMaxScaler"
   ]
  },
  {
   "cell_type": "code",
   "execution_count": 2,
   "metadata": {},
   "outputs": [],
   "source": [
    "# Import own library\n",
    "from ipynb.fs.full.Function_WP_Final import *"
   ]
  },
  {
   "cell_type": "markdown",
   "metadata": {},
   "source": [
    "# Preprocess and save as new CSV"
   ]
  },
  {
   "cell_type": "code",
   "execution_count": 3,
   "metadata": {
    "scrolled": true
   },
   "outputs": [
    {
     "name": "stdout",
     "output_type": "stream",
     "text": [
      "Done: Cirrus10.csv\n",
      "-------------------------------------------------------------------------------------------------------------------------------\n",
      "Done: Cirrus11.csv\n",
      "-------------------------------------------------------------------------------------------------------------------------------\n",
      "Done: Cirrus12.csv\n",
      "-------------------------------------------------------------------------------------------------------------------------------\n",
      "Done: Cirrus13.csv\n",
      "-------------------------------------------------------------------------------------------------------------------------------\n",
      "Done: Cirrus14.csv\n",
      "-------------------------------------------------------------------------------------------------------------------------------\n",
      "Done: Cirrus15.csv\n",
      "-------------------------------------------------------------------------------------------------------------------------------\n",
      "Done: Cirrus16.csv\n",
      "-------------------------------------------------------------------------------------------------------------------------------\n",
      "Done: Cirrus17.csv\n",
      "-------------------------------------------------------------------------------------------------------------------------------\n",
      "Done: Cirrus18.csv\n",
      "-------------------------------------------------------------------------------------------------------------------------------\n",
      "Done: Cirrus19.csv\n",
      "-------------------------------------------------------------------------------------------------------------------------------\n",
      "Done: Cirrus2.csv\n",
      "-------------------------------------------------------------------------------------------------------------------------------\n",
      "Done: Cirrus20.csv\n",
      "-------------------------------------------------------------------------------------------------------------------------------\n",
      "Done: Cirrus21.csv\n",
      "-------------------------------------------------------------------------------------------------------------------------------\n",
      "Done: Cirrus3.csv\n",
      "-------------------------------------------------------------------------------------------------------------------------------\n",
      "Done: Cirrus4.csv\n",
      "-------------------------------------------------------------------------------------------------------------------------------\n",
      "Done: Cirrus5.csv\n",
      "-------------------------------------------------------------------------------------------------------------------------------\n",
      "Done: Cirrus6.csv\n",
      "-------------------------------------------------------------------------------------------------------------------------------\n",
      "Done: Cirrus7.csv\n",
      "-------------------------------------------------------------------------------------------------------------------------------\n",
      "Done: Cirrus8.csv\n",
      "-------------------------------------------------------------------------------------------------------------------------------\n",
      "Done: Cirrus9.csv\n",
      "-------------------------------------------------------------------------------------------------------------------------------\n",
      "Time used: 0.13 minutes\n",
      "Number of used data: 20\n"
     ]
    }
   ],
   "source": [
    "source_path = r\"D:/Documents/Akademik ITB/TA Waypoint Following/CSV Cirrus Rate - PID/*csv\"\n",
    "dest_path = r\"D:/Documents/Akademik ITB/TA Waypoint Following/CSV COBACOBA\"\n",
    "\n",
    "preprocess_csv_files(source_path, dest_path)"
   ]
  },
  {
   "cell_type": "markdown",
   "metadata": {},
   "source": [
    "# Concatenate CSV to Create Train Dataset"
   ]
  },
  {
   "cell_type": "code",
   "execution_count": 4,
   "metadata": {},
   "outputs": [],
   "source": [
    "csv_path = dest_path\n",
    "file_name = 'Train_dataset.csv'\n",
    "\n",
    "concat_csv(csv_path, file_name)"
   ]
  },
  {
   "cell_type": "code",
   "execution_count": 5,
   "metadata": {},
   "outputs": [],
   "source": [
    "df_train = pd.read_csv(dest_path + '/' + file_name)"
   ]
  },
  {
   "cell_type": "markdown",
   "metadata": {},
   "source": [
    "# Concatenate CSV to Create Val Dataset"
   ]
  },
  {
   "cell_type": "code",
   "execution_count": 10,
   "metadata": {},
   "outputs": [],
   "source": [
    "val_path = r'D:/Documents/Akademik ITB/TA Waypoint Following/CSV Cirrus PID OK/Cirrus1.csv'\n",
    "df_val = pd.read_csv(val_path)"
   ]
  },
  {
   "cell_type": "markdown",
   "metadata": {},
   "source": [
    "# Show Correlation Table"
   ]
  },
  {
   "cell_type": "code",
   "execution_count": 7,
   "metadata": {},
   "outputs": [
    {
     "data": {
      "text/html": [
       "<div>\n",
       "<style scoped>\n",
       "    .dataframe tbody tr th:only-of-type {\n",
       "        vertical-align: middle;\n",
       "    }\n",
       "\n",
       "    .dataframe tbody tr th {\n",
       "        vertical-align: top;\n",
       "    }\n",
       "\n",
       "    .dataframe thead th {\n",
       "        text-align: right;\n",
       "    }\n",
       "</style>\n",
       "<table border=\"1\" class=\"dataframe\">\n",
       "  <thead>\n",
       "    <tr style=\"text-align: right;\">\n",
       "      <th></th>\n",
       "      <th>pos_corr_JSRoll_Sim</th>\n",
       "    </tr>\n",
       "  </thead>\n",
       "  <tbody>\n",
       "    <tr>\n",
       "      <th>JSRoll_Sim</th>\n",
       "      <td>100.00</td>\n",
       "    </tr>\n",
       "    <tr>\n",
       "      <th>KP</th>\n",
       "      <td>97.35</td>\n",
       "    </tr>\n",
       "    <tr>\n",
       "      <th>phi</th>\n",
       "      <td>63.21</td>\n",
       "    </tr>\n",
       "    <tr>\n",
       "      <th>roll_rate</th>\n",
       "      <td>25.37</td>\n",
       "    </tr>\n",
       "    <tr>\n",
       "      <th>lon</th>\n",
       "      <td>20.88</td>\n",
       "    </tr>\n",
       "    <tr>\n",
       "      <th>Roll_lim_stat</th>\n",
       "      <td>19.88</td>\n",
       "    </tr>\n",
       "    <tr>\n",
       "      <th>JSRoll</th>\n",
       "      <td>17.63</td>\n",
       "    </tr>\n",
       "    <tr>\n",
       "      <th>yaw_reff</th>\n",
       "      <td>12.91</td>\n",
       "    </tr>\n",
       "    <tr>\n",
       "      <th>index</th>\n",
       "      <td>11.18</td>\n",
       "    </tr>\n",
       "    <tr>\n",
       "      <th>X</th>\n",
       "      <td>10.79</td>\n",
       "    </tr>\n",
       "  </tbody>\n",
       "</table>\n",
       "</div>"
      ],
      "text/plain": [
       "               pos_corr_JSRoll_Sim\n",
       "JSRoll_Sim                  100.00\n",
       "KP                           97.35\n",
       "phi                          63.21\n",
       "roll_rate                    25.37\n",
       "lon                          20.88\n",
       "Roll_lim_stat                19.88\n",
       "JSRoll                       17.63\n",
       "yaw_reff                     12.91\n",
       "index                        11.18\n",
       "X                            10.79"
      ]
     },
     "metadata": {},
     "output_type": "display_data"
    },
    {
     "data": {
      "text/html": [
       "<div>\n",
       "<style scoped>\n",
       "    .dataframe tbody tr th:only-of-type {\n",
       "        vertical-align: middle;\n",
       "    }\n",
       "\n",
       "    .dataframe tbody tr th {\n",
       "        vertical-align: top;\n",
       "    }\n",
       "\n",
       "    .dataframe thead th {\n",
       "        text-align: right;\n",
       "    }\n",
       "</style>\n",
       "<table border=\"1\" class=\"dataframe\">\n",
       "  <thead>\n",
       "    <tr style=\"text-align: right;\">\n",
       "      <th></th>\n",
       "      <th>neg_corr_JSRoll_Sim</th>\n",
       "    </tr>\n",
       "  </thead>\n",
       "  <tbody>\n",
       "    <tr>\n",
       "      <th>yaw_error</th>\n",
       "      <td>-91.50</td>\n",
       "    </tr>\n",
       "    <tr>\n",
       "      <th>lat</th>\n",
       "      <td>-25.76</td>\n",
       "    </tr>\n",
       "    <tr>\n",
       "      <th>right_ail</th>\n",
       "      <td>-17.38</td>\n",
       "    </tr>\n",
       "    <tr>\n",
       "      <th>y_wp</th>\n",
       "      <td>-12.21</td>\n",
       "    </tr>\n",
       "    <tr>\n",
       "      <th>Z</th>\n",
       "      <td>-9.59</td>\n",
       "    </tr>\n",
       "    <tr>\n",
       "      <th>fuel_flow</th>\n",
       "      <td>-6.90</td>\n",
       "    </tr>\n",
       "    <tr>\n",
       "      <th>thrust</th>\n",
       "      <td>-6.71</td>\n",
       "    </tr>\n",
       "    <tr>\n",
       "      <th>theta</th>\n",
       "      <td>-6.01</td>\n",
       "    </tr>\n",
       "    <tr>\n",
       "      <th>throttle</th>\n",
       "      <td>-4.66</td>\n",
       "    </tr>\n",
       "    <tr>\n",
       "      <th>error_rate</th>\n",
       "      <td>-2.36</td>\n",
       "    </tr>\n",
       "  </tbody>\n",
       "</table>\n",
       "</div>"
      ],
      "text/plain": [
       "            neg_corr_JSRoll_Sim\n",
       "yaw_error                -91.50\n",
       "lat                      -25.76\n",
       "right_ail                -17.38\n",
       "y_wp                     -12.21\n",
       "Z                         -9.59\n",
       "fuel_flow                 -6.90\n",
       "thrust                    -6.71\n",
       "theta                     -6.01\n",
       "throttle                  -4.66\n",
       "error_rate                -2.36"
      ]
     },
     "metadata": {},
     "output_type": "display_data"
    }
   ],
   "source": [
    "# Fill variable var_1 and var_2 with parameter name\n",
    "var = \"JSRoll_Sim\"\n",
    "pos_corr,neg_corr = correlation(df = df_train, var = var)\n",
    "\n",
    "# Display positive and negative correlation dataframe\n",
    "display(pos_corr.head(10))\n",
    "display(neg_corr.head(10))"
   ]
  },
  {
   "cell_type": "markdown",
   "metadata": {},
   "source": [
    "# Create Feature & Target Data"
   ]
  },
  {
   "cell_type": "code",
   "execution_count": 9,
   "metadata": {},
   "outputs": [],
   "source": [
    "features_col = ['error_rate','yaw_error', 'phi']\n",
    "targets_col = ['JSRoll_Sim']"
   ]
  },
  {
   "cell_type": "markdown",
   "metadata": {},
   "source": [
    "# Normalized Data"
   ]
  },
  {
   "cell_type": "code",
   "execution_count": 13,
   "metadata": {},
   "outputs": [],
   "source": [
    "X_train = df_train[features_col].values.astype('float32')\n",
    "X_val = df_val[features_col].values.astype('float32')\n",
    "\n",
    "scaler = MinMaxScaler(feature_range=(0, 1))\n",
    "transformer = scaler.fit(X_train)\n",
    "X_train = transformer.transform(X_train)\n",
    "X_val = transformer.transform(X_val)\n",
    "\n",
    "y_train = df_train[targets_col].values.astype('float32')\n",
    "y_val = df_val[targets_col].values.astype('float32')"
   ]
  },
  {
   "cell_type": "markdown",
   "metadata": {},
   "source": [
    "# Save Normalized Data (Features & Targets Only)"
   ]
  },
  {
   "cell_type": "code",
   "execution_count": 17,
   "metadata": {},
   "outputs": [],
   "source": [
    "train_name = 'train_dataset.csv'\n",
    "val_name = 'val_dataset.csv'\n",
    "folder_path = r\"D:/Documents/Akademik ITB/TA Waypoint Following/Features and Targets\""
   ]
  },
  {
   "cell_type": "code",
   "execution_count": 18,
   "metadata": {},
   "outputs": [],
   "source": [
    "df_train_final = pd.DataFrame(X_train, columns=['error_rate','yaw_error', 'phi'])\n",
    "df_train_final['JSRoll_Sim'] = y_train\n",
    "df_train.to_csv(folder_path + '/' + train_name, index=False, encoding='utf-8-sig')"
   ]
  },
  {
   "cell_type": "code",
   "execution_count": 20,
   "metadata": {},
   "outputs": [],
   "source": [
    "df_val_final = pd.DataFrame(X_val, columns=['error_rate','yaw_error', 'phi'])\n",
    "df_val_final['JSRoll_Sim'] = y_val\n",
    "df_val.to_csv(folder_path + '/' + val_name, index=False, encoding='utf-8-sig')"
   ]
  }
 ],
 "metadata": {
  "kernelspec": {
   "display_name": "Python 3",
   "language": "python",
   "name": "python3"
  },
  "language_info": {
   "codemirror_mode": {
    "name": "ipython",
    "version": 3
   },
   "file_extension": ".py",
   "mimetype": "text/x-python",
   "name": "python",
   "nbconvert_exporter": "python",
   "pygments_lexer": "ipython3",
   "version": "3.8.5"
  }
 },
 "nbformat": 4,
 "nbformat_minor": 4
}
