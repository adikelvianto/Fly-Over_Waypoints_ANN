{
 "cells": [
  {
   "cell_type": "code",
   "execution_count": 1,
   "metadata": {},
   "outputs": [],
   "source": [
    "# Import External Library\n",
    "import pandas as pd\n",
    "import numpy as np\n",
    "import matplotlib.pyplot as plt\n",
    "import os \n",
    "import glob\n",
    "from timeit import default_timer as timer\n",
    "from pathlib import Path"
   ]
  },
  {
   "cell_type": "code",
   "execution_count": 2,
   "metadata": {},
   "outputs": [],
   "source": [
    "# Import own library\n",
    "from function.preprocessing import give_column_name, preprocess_csv_files,concat_csv, correlation"
   ]
  },
  {
   "cell_type": "markdown",
   "metadata": {},
   "source": [
    "# Give column name"
   ]
  },
  {
   "cell_type": "code",
   "execution_count": 34,
   "metadata": {
    "scrolled": true
   },
   "outputs": [
    {
     "name": "stdout",
     "output_type": "stream",
     "text": [
      "Done: Cirrus1.csv\n",
      "-------------------------------------------------------------------------------------------------------------------------------\n",
      "Done: Cirrus17.csv\n",
      "-------------------------------------------------------------------------------------------------------------------------------\n",
      "Done: Cirrus18.csv\n",
      "-------------------------------------------------------------------------------------------------------------------------------\n",
      "Done: Cirrus19.csv\n",
      "-------------------------------------------------------------------------------------------------------------------------------\n",
      "Done: Cirrus2.csv\n",
      "-------------------------------------------------------------------------------------------------------------------------------\n",
      "Done: Cirrus20.csv\n",
      "-------------------------------------------------------------------------------------------------------------------------------\n",
      "Done: Cirrus21.csv\n",
      "-------------------------------------------------------------------------------------------------------------------------------\n",
      "Done: Cirrus3.csv\n",
      "-------------------------------------------------------------------------------------------------------------------------------\n",
      "Done: Cirrus4.csv\n",
      "-------------------------------------------------------------------------------------------------------------------------------\n",
      "Done: Cirrus5.csv\n",
      "-------------------------------------------------------------------------------------------------------------------------------\n",
      "Done: Cirrus6.csv\n",
      "-------------------------------------------------------------------------------------------------------------------------------\n",
      "Time used: 0.01 minutes\n",
      "Number of used data: 11\n"
     ]
    }
   ],
   "source": [
    "source_path = r\".../CSV_PID/*csv\"\n",
    "dest_path = r\".../CSV_PID\"\n",
    "give_column_name(source_path, dest_path)"
   ]
  },
  {
   "cell_type": "markdown",
   "metadata": {},
   "source": [
    "# Preprocess and save as new CSV"
   ]
  },
  {
   "cell_type": "code",
   "execution_count": 36,
   "metadata": {
    "scrolled": true
   },
   "outputs": [
    {
     "name": "stdout",
     "output_type": "stream",
     "text": [
      "Done: Cirrus17.csv\n",
      "-------------------------------------------------------------------------------------------------------------------------------\n",
      "Done: Cirrus18.csv\n",
      "-------------------------------------------------------------------------------------------------------------------------------\n",
      "Done: Cirrus19.csv\n",
      "-------------------------------------------------------------------------------------------------------------------------------\n",
      "Done: Cirrus2.csv\n",
      "-------------------------------------------------------------------------------------------------------------------------------\n",
      "Done: Cirrus20.csv\n",
      "-------------------------------------------------------------------------------------------------------------------------------\n",
      "Done: Cirrus21.csv\n",
      "-------------------------------------------------------------------------------------------------------------------------------\n",
      "Done: Cirrus3.csv\n",
      "-------------------------------------------------------------------------------------------------------------------------------\n",
      "Done: Cirrus4.csv\n",
      "-------------------------------------------------------------------------------------------------------------------------------\n",
      "Done: Cirrus5.csv\n",
      "-------------------------------------------------------------------------------------------------------------------------------\n",
      "Done: Cirrus6.csv\n",
      "-------------------------------------------------------------------------------------------------------------------------------\n",
      "Time used: 0.04 minutes\n",
      "Number of used data: 10\n"
     ]
    }
   ],
   "source": [
    "source_path = r\".../CSV_PID/*csv\"\n",
    "dest_path = r\".../CSV_PID_PROCESSED/*csv\"\n",
    "\n",
    "preprocess_csv_files(source_path, dest_path)"
   ]
  },
  {
   "cell_type": "markdown",
   "metadata": {},
   "source": [
    "# Concatenate CSV to Create Train Dataset"
   ]
  },
  {
   "cell_type": "code",
   "execution_count": 38,
   "metadata": {},
   "outputs": [],
   "source": [
    "csv_path = dest_path\n",
    "file_name = 'Train_dataset.csv'\n",
    "\n",
    "concat_csv(csv_path, file_name)"
   ]
  },
  {
   "cell_type": "markdown",
   "metadata": {},
   "source": [
    "# Show Correlation Table"
   ]
  },
  {
   "cell_type": "code",
   "execution_count": 39,
   "metadata": {},
   "outputs": [],
   "source": [
    "df_train = pd.read_csv(csv_path + '/' + file_name)"
   ]
  },
  {
   "cell_type": "code",
   "execution_count": 42,
   "metadata": {},
   "outputs": [
    {
     "data": {
      "text/html": [
       "<div>\n",
       "<style scoped>\n",
       "    .dataframe tbody tr th:only-of-type {\n",
       "        vertical-align: middle;\n",
       "    }\n",
       "\n",
       "    .dataframe tbody tr th {\n",
       "        vertical-align: top;\n",
       "    }\n",
       "\n",
       "    .dataframe thead th {\n",
       "        text-align: right;\n",
       "    }\n",
       "</style>\n",
       "<table border=\"1\" class=\"dataframe\">\n",
       "  <thead>\n",
       "    <tr style=\"text-align: right;\">\n",
       "      <th></th>\n",
       "      <th>pos_corr_JSRoll_Sim</th>\n",
       "    </tr>\n",
       "  </thead>\n",
       "  <tbody>\n",
       "    <tr>\n",
       "      <th>JSRoll_Sim</th>\n",
       "      <td>100.00</td>\n",
       "    </tr>\n",
       "    <tr>\n",
       "      <th>KP</th>\n",
       "      <td>96.27</td>\n",
       "    </tr>\n",
       "    <tr>\n",
       "      <th>phi</th>\n",
       "      <td>72.64</td>\n",
       "    </tr>\n",
       "    <tr>\n",
       "      <th>roll_rate</th>\n",
       "      <td>36.81</td>\n",
       "    </tr>\n",
       "    <tr>\n",
       "      <th>JSRoll</th>\n",
       "      <td>35.83</td>\n",
       "    </tr>\n",
       "    <tr>\n",
       "      <th>left_ail</th>\n",
       "      <td>35.51</td>\n",
       "    </tr>\n",
       "    <tr>\n",
       "      <th>Z</th>\n",
       "      <td>34.84</td>\n",
       "    </tr>\n",
       "    <tr>\n",
       "      <th>thrust</th>\n",
       "      <td>34.69</td>\n",
       "    </tr>\n",
       "    <tr>\n",
       "      <th>fuel_flow</th>\n",
       "      <td>33.93</td>\n",
       "    </tr>\n",
       "    <tr>\n",
       "      <th>alt</th>\n",
       "      <td>33.41</td>\n",
       "    </tr>\n",
       "  </tbody>\n",
       "</table>\n",
       "</div>"
      ],
      "text/plain": [
       "            pos_corr_JSRoll_Sim\n",
       "JSRoll_Sim               100.00\n",
       "KP                        96.27\n",
       "phi                       72.64\n",
       "roll_rate                 36.81\n",
       "JSRoll                    35.83\n",
       "left_ail                  35.51\n",
       "Z                         34.84\n",
       "thrust                    34.69\n",
       "fuel_flow                 33.93\n",
       "alt                       33.41"
      ]
     },
     "metadata": {},
     "output_type": "display_data"
    },
    {
     "data": {
      "text/html": [
       "<div>\n",
       "<style scoped>\n",
       "    .dataframe tbody tr th:only-of-type {\n",
       "        vertical-align: middle;\n",
       "    }\n",
       "\n",
       "    .dataframe tbody tr th {\n",
       "        vertical-align: top;\n",
       "    }\n",
       "\n",
       "    .dataframe thead th {\n",
       "        text-align: right;\n",
       "    }\n",
       "</style>\n",
       "<table border=\"1\" class=\"dataframe\">\n",
       "  <thead>\n",
       "    <tr style=\"text-align: right;\">\n",
       "      <th></th>\n",
       "      <th>neg_corr_JSRoll_Sim</th>\n",
       "    </tr>\n",
       "  </thead>\n",
       "  <tbody>\n",
       "    <tr>\n",
       "      <th>yaw_error</th>\n",
       "      <td>-92.17</td>\n",
       "    </tr>\n",
       "    <tr>\n",
       "      <th>X</th>\n",
       "      <td>-50.80</td>\n",
       "    </tr>\n",
       "    <tr>\n",
       "      <th>index</th>\n",
       "      <td>-42.56</td>\n",
       "    </tr>\n",
       "    <tr>\n",
       "      <th>Y</th>\n",
       "      <td>-35.22</td>\n",
       "    </tr>\n",
       "    <tr>\n",
       "      <th>num_wp</th>\n",
       "      <td>-32.95</td>\n",
       "    </tr>\n",
       "    <tr>\n",
       "      <th>right_ail</th>\n",
       "      <td>-32.31</td>\n",
       "    </tr>\n",
       "    <tr>\n",
       "      <th>x_wp</th>\n",
       "      <td>-31.33</td>\n",
       "    </tr>\n",
       "    <tr>\n",
       "      <th>y_wp</th>\n",
       "      <td>-30.69</td>\n",
       "    </tr>\n",
       "    <tr>\n",
       "      <th>yaw_reff</th>\n",
       "      <td>-29.65</td>\n",
       "    </tr>\n",
       "    <tr>\n",
       "      <th>wp_stat</th>\n",
       "      <td>-11.98</td>\n",
       "    </tr>\n",
       "  </tbody>\n",
       "</table>\n",
       "</div>"
      ],
      "text/plain": [
       "           neg_corr_JSRoll_Sim\n",
       "yaw_error               -92.17\n",
       "X                       -50.80\n",
       "index                   -42.56\n",
       "Y                       -35.22\n",
       "num_wp                  -32.95\n",
       "right_ail               -32.31\n",
       "x_wp                    -31.33\n",
       "y_wp                    -30.69\n",
       "yaw_reff                -29.65\n",
       "wp_stat                 -11.98"
      ]
     },
     "metadata": {},
     "output_type": "display_data"
    }
   ],
   "source": [
    "# Fill variable var_1 and var_2 with parameter name\n",
    "var = \"JSRoll_Sim\"\n",
    "pos_corr,neg_corr = correlation(df = df_train, var = var)\n",
    "\n",
    "# Display positive and negative correlation dataframe\n",
    "display(pos_corr.head(10))\n",
    "display(neg_corr.head(10))"
   ]
  },
  {
   "cell_type": "markdown",
   "metadata": {},
   "source": [
    "# Split Dataset into 4 Dataset Based on a criteria"
   ]
  },
  {
   "cell_type": "markdown",
   "metadata": {},
   "source": [
    "### df_char1 = df_character[(df_character.section_min_roll>=-10) & (df_character.section_max_roll<=10)]\n",
    "### df_char2 = df_character[(df_character.section_min_roll>=-10) & (df_character.section_max_roll<=40)]\n",
    "### df_char3 = df_character[(df_character.section_min_roll>=-40) & (df_character.section_max_roll<=10)]\n",
    "### df_char4 = df_character[(df_character.section_min_roll>=-40) & (df_character.section_max_roll<=40)]"
   ]
  },
  {
   "cell_type": "code",
   "execution_count": 45,
   "metadata": {},
   "outputs": [],
   "source": [
    "# Define csv path\n",
    "import pandas as pd\n",
    "\n",
    "df_train = pd.read_csv(r\".../CSV_PID_PROCESSED/Train_dataset.csv\") \n",
    "source_path = r\".../CSV_PID_PROCESSED/*csv\"\n",
    "\n",
    "csv_path = glob.glob(source_path)\n",
    "\n",
    "df_criteria1 = pd.DataFrame(columns = df_train.columns)\n",
    "df_criteria2 = pd.DataFrame(columns = df_train.columns)\n",
    "df_criteria3 = pd.DataFrame(columns = df_train.columns) \n",
    "df_criteria4 = pd.DataFrame(columns = df_train.columns) \n",
    "\n",
    "for csv_file in csv_path:\n",
    "    df = pd.read_csv(csv_file)\n",
    "    indexes, _ = index_wp(df)\n",
    "    char1, char2, char3, char4 = roll_criteria(df)\n",
    "    \n",
    "    if len(char1) != 0:\n",
    "        for value in char1['current_wp']:\n",
    "            start_index = indexes[value]\n",
    "            end_index = indexes[value+1]\n",
    "\n",
    "            df_criteria1 = df_criteria1.append(df[start_index:end_index])\n",
    "        df_criteria1.to_csv(r'...\\TRAIN SET SECTION\\SET1\\train_set1.csv', index=False)\n",
    "    else:\n",
    "        pass\n",
    "\n",
    "    if len(char2) != 0:\n",
    "        for value in char2['current_wp']:\n",
    "            start_index = indexes[value]\n",
    "            end_index = indexes[value+1]\n",
    "\n",
    "            df_criteria2 = df_criteria2.append(df[start_index:end_index])\n",
    "        df_criteria2.to_csv(r'...\\TRAIN SET SECTION\\SET2\\train_set2.csv', index=False)\n",
    "    else:\n",
    "        pass\n",
    "\n",
    "    if len(char3) != 0:\n",
    "        for value in char3['current_wp']:\n",
    "            start_index = indexes[value]\n",
    "            end_index = indexes[value+1]\n",
    "\n",
    "            df_criteria3 = df_criteria3.append(df[start_index:end_index])\n",
    "        df_criteria3.to_csv(r'...\\TRAIN SET SECTION\\SET3\\train_set3.csv', index=False)\n",
    "    else:\n",
    "        pass\n",
    "\n",
    "    if len(char4) != 0:\n",
    "        for value in char4['current_wp']:\n",
    "            start_index = indexes[value]\n",
    "            end_index = indexes[value+1]\n",
    "\n",
    "            df_criteria4 = df_criteria4.append(df[start_index:end_index])\n",
    "        df_criteria4.to_csv(r'...\\TRAIN SET SECTION\\SET4\\train_set4.csv', index=False)\n",
    "    else:\n",
    "        pass"
   ]
  }
 ],
 "metadata": {
  "kernelspec": {
   "display_name": "Python 3",
   "language": "python",
   "name": "python3"
  },
  "language_info": {
   "codemirror_mode": {
    "name": "ipython",
    "version": 3
   },
   "file_extension": ".py",
   "mimetype": "text/x-python",
   "name": "python",
   "nbconvert_exporter": "python",
   "pygments_lexer": "ipython3",
   "version": "3.8.5"
  }
 },
 "nbformat": 4,
 "nbformat_minor": 4
}
